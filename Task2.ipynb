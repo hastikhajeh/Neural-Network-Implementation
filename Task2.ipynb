{
 "cells": [
  {
   "cell_type": "code",
   "execution_count": 185,
   "metadata": {},
   "outputs": [],
   "source": [
    "import numpy as np\n",
    "from matplotlib import pyplot as plt\n",
    "import tensorflow as tf\n"
   ]
  },
  {
   "cell_type": "code",
   "execution_count": 186,
   "metadata": {},
   "outputs": [],
   "source": [
    "def initialize_weights(size):   \n",
    "    return tf.Variable(tf.random.uniform(shape=(size,1))),\\\n",
    "            tf.Variable(tf.random.uniform(shape=()))\n"
   ]
  },
  {
   "cell_type": "code",
   "execution_count": 187,
   "metadata": {},
   "outputs": [],
   "source": [
    "def sigmoid(z):\n",
    "    return (tf.Variable(1.0) / (tf.Variable(1.0) + tf.math.exp(-z)))\n"
   ]
  },
  {
   "cell_type": "code",
   "execution_count": 188,
   "metadata": {},
   "outputs": [],
   "source": [
    "\n",
    "def phi(W, b, X):\n",
    "    return sigmoid((tf.transpose(W) @ X) + b)"
   ]
  },
  {
   "cell_type": "code",
   "execution_count": 189,
   "metadata": {},
   "outputs": [],
   "source": [
    "def cross_entropy(W, b, X, y):\n",
    "    c_phi = phi(W, b, X)\n",
    "    return  - ((y *tf.math.log(c_phi)) + ((tf.Variable(1.0) - y) * tf.math.log(tf.Variable(1.0) - c_phi)))"
   ]
  },
  {
   "cell_type": "code",
   "execution_count": 190,
   "metadata": {},
   "outputs": [],
   "source": [
    "def gradient(W,b,X,y):\n",
    "    with tf.GradientTape() as tape:\n",
    "        y = tf.reduce_mean(cross_entropy(W,b,X, y))\n",
    "        dw,db = tape.gradient(y,[W,b])\n",
    "    return dw,db\n"
   ]
  },
  {
   "cell_type": "code",
   "execution_count": 191,
   "metadata": {},
   "outputs": [],
   "source": [
    "def err(y_pred,Y):\n",
    "    err = np.zeros((y_pred[0].shape))\n",
    "    for i,y in enumerate(y_pred[0]):\n",
    "        if y >= 0.5:\n",
    "            if(Y[0][i] == 0):\n",
    "                err[i] = 1\n",
    "        else:\n",
    "            if(Y[0][i] == 1):\n",
    "                err[i] = 1\n",
    "    final_err = np.sum(err)/(y_pred[0].shape[0])\n",
    "    return final_err,err"
   ]
  },
  {
   "cell_type": "code",
   "execution_count": 192,
   "metadata": {},
   "outputs": [],
   "source": [
    "def gradient_decent(lamb,w,b,X,Y):\n",
    "    lamb = tf.Variable(lamb)\n",
    "    dw,db = gradient(w,b,X,Y)\n",
    "    while True:\n",
    "        w.assign_sub(lamb * dw)\n",
    "        b.assign_sub(lamb * db)\n",
    "        wc,bc = gradient(w,b,X,Y)\n",
    "        if tf.norm(wc) < 0.05 and tf.norm(bc)< 0.05: # 0.01 0.017\n",
    "            break\n",
    "        cost = tf.reduce_sum(cross_entropy(w,b,X,Y))\n",
    "        print('cost ' +str(cost))\n",
    "        y_pred = phi(w,b,X)\n",
    "        final_error,e = err(y_pred,Y)\n",
    "        print('error '+str(final_error))\n",
    "    \n",
    "    return w,b,e"
   ]
  },
  {
   "cell_type": "code",
   "execution_count": 193,
   "metadata": {},
   "outputs": [
    {
     "name": "stdout",
     "output_type": "stream",
     "text": [
      "cost tf.Tensor(14.674322, shape=(), dtype=float32)\n",
      "error 0.02857142857142857\n",
      "cost tf.Tensor(14.216248, shape=(), dtype=float32)\n",
      "error 0.02857142857142857\n",
      "cost tf.Tensor(13.773974, shape=(), dtype=float32)\n",
      "error 0.02857142857142857\n",
      "cost tf.Tensor(13.347033, shape=(), dtype=float32)\n",
      "error 0.02857142857142857\n",
      "cost tf.Tensor(12.93495, shape=(), dtype=float32)\n",
      "error 0.02857142857142857\n",
      "cost tf.Tensor(12.537259, shape=(), dtype=float32)\n",
      "error 0.02857142857142857\n",
      "cost tf.Tensor(12.1535015, shape=(), dtype=float32)\n",
      "error 0.02857142857142857\n",
      "cost tf.Tensor(11.783218, shape=(), dtype=float32)\n",
      "error 0.02857142857142857\n",
      "cost tf.Tensor(11.425965, shape=(), dtype=float32)\n",
      "error 0.02857142857142857\n",
      "cost tf.Tensor(11.0813, shape=(), dtype=float32)\n",
      "error 0.02857142857142857\n",
      "cost tf.Tensor(10.748793, shape=(), dtype=float32)\n",
      "error 0.02857142857142857\n",
      "cost tf.Tensor(10.428019, shape=(), dtype=float32)\n",
      "error 0.02857142857142857\n",
      "cost tf.Tensor(10.118567, shape=(), dtype=float32)\n",
      "error 0.02857142857142857\n",
      "cost tf.Tensor(9.820036, shape=(), dtype=float32)\n",
      "error 0.02857142857142857\n",
      "cost tf.Tensor(9.532029, shape=(), dtype=float32)\n",
      "error 0.02857142857142857\n",
      "cost tf.Tensor(9.25417, shape=(), dtype=float32)\n",
      "error 0.02857142857142857\n",
      "cost tf.Tensor(8.986086, shape=(), dtype=float32)\n",
      "error 0.02857142857142857\n",
      "cost tf.Tensor(8.727417, shape=(), dtype=float32)\n",
      "error 0.014285714285714285\n",
      "cost tf.Tensor(8.477816, shape=(), dtype=float32)\n",
      "error 0.0\n",
      "cost tf.Tensor(8.236946, shape=(), dtype=float32)\n",
      "error 0.0\n",
      "cost tf.Tensor(8.004482, shape=(), dtype=float32)\n",
      "error 0.0\n",
      "cost tf.Tensor(7.7801085, shape=(), dtype=float32)\n",
      "error 0.0\n",
      "cost tf.Tensor(7.5635204, shape=(), dtype=float32)\n",
      "error 0.0\n",
      "cost tf.Tensor(7.354427, shape=(), dtype=float32)\n",
      "error 0.0\n",
      "cost tf.Tensor(7.1525435, shape=(), dtype=float32)\n",
      "error 0.0\n",
      "cost tf.Tensor(6.957601, shape=(), dtype=float32)\n",
      "error 0.0\n",
      "cost tf.Tensor(6.769335, shape=(), dtype=float32)\n",
      "error 0.0\n",
      "cost tf.Tensor(6.587494, shape=(), dtype=float32)\n",
      "error 0.0\n",
      "cost tf.Tensor(6.4118357, shape=(), dtype=float32)\n",
      "error 0.0\n",
      "cost tf.Tensor(6.2421284, shape=(), dtype=float32)\n",
      "error 0.0\n",
      "cost tf.Tensor(6.0781474, shape=(), dtype=float32)\n",
      "error 0.0\n",
      "cost tf.Tensor(5.919677, shape=(), dtype=float32)\n",
      "error 0.0\n",
      "cost tf.Tensor(5.7665105, shape=(), dtype=float32)\n",
      "error 0.0\n",
      "cost tf.Tensor(5.6184497, shape=(), dtype=float32)\n",
      "error 0.0\n",
      "cost tf.Tensor(5.475305, shape=(), dtype=float32)\n",
      "error 0.0\n",
      "cost tf.Tensor(5.336892, shape=(), dtype=float32)\n",
      "error 0.0\n",
      "cost tf.Tensor(5.2030354, shape=(), dtype=float32)\n",
      "error 0.0\n",
      "cost tf.Tensor(5.0735674, shape=(), dtype=float32)\n",
      "error 0.0\n",
      "cost tf.Tensor(4.948325, shape=(), dtype=float32)\n",
      "error 0.0\n",
      "cost tf.Tensor(4.8271546, shape=(), dtype=float32)\n",
      "error 0.0\n",
      "cost tf.Tensor(4.709905, shape=(), dtype=float32)\n",
      "error 0.0\n",
      "cost tf.Tensor(4.596436, shape=(), dtype=float32)\n",
      "error 0.0\n",
      "cost tf.Tensor(4.486608, shape=(), dtype=float32)\n",
      "error 0.0\n",
      "cost tf.Tensor(4.38029, shape=(), dtype=float32)\n",
      "error 0.0\n",
      "cost tf.Tensor(4.2773557, shape=(), dtype=float32)\n",
      "error 0.0\n",
      "cost tf.Tensor(4.1776834, shape=(), dtype=float32)\n",
      "error 0.0\n",
      "cost tf.Tensor(4.081157, shape=(), dtype=float32)\n",
      "error 0.0\n",
      "cost tf.Tensor(3.9876645, shape=(), dtype=float32)\n",
      "error 0.0\n",
      "cost tf.Tensor(3.8970983, shape=(), dtype=float32)\n",
      "error 0.0\n",
      "cost tf.Tensor(3.8093557, shape=(), dtype=float32)\n",
      "error 0.0\n",
      "cost tf.Tensor(3.7243369, shape=(), dtype=float32)\n",
      "error 0.0\n",
      "cost tf.Tensor(3.6419475, shape=(), dtype=float32)\n",
      "error 0.0\n",
      "cost tf.Tensor(3.5620959, shape=(), dtype=float32)\n",
      "error 0.0\n",
      "cost tf.Tensor(3.4846938, shape=(), dtype=float32)\n",
      "error 0.0\n",
      "cost tf.Tensor(3.4096582, shape=(), dtype=float32)\n",
      "error 0.0\n",
      "cost tf.Tensor(3.3369062, shape=(), dtype=float32)\n",
      "error 0.0\n",
      "cost tf.Tensor(3.2663612, shape=(), dtype=float32)\n",
      "error 0.0\n",
      "cost tf.Tensor(3.197948, shape=(), dtype=float32)\n",
      "error 0.0\n",
      "cost tf.Tensor(3.1315947, shape=(), dtype=float32)\n",
      "error 0.0\n"
     ]
    },
    {
     "data": {
      "text/plain": [
       "(<tf.Variable 'strided_slice/strided_slice/Variable:0' shape=(5, 1) dtype=float32, numpy=\n",
       " array([[ 0.866873  ],\n",
       "        [-0.59253323],\n",
       "        [ 1.2164211 ],\n",
       "        [ 1.4109131 ],\n",
       "        [-0.4151395 ]], dtype=float32)>,\n",
       " <tf.Variable 'strided_slice/strided_slice/Variable:0' shape=() dtype=float32, numpy=0.45425367>,\n",
       " array([0., 0., 0., 0., 0., 0., 0., 0., 0., 0., 0., 0., 0., 0., 0., 0., 0.,\n",
       "        0., 0., 0., 0., 0., 0., 0., 0., 0., 0., 0., 0., 0., 0., 0., 0., 0.,\n",
       "        0., 0., 0., 0., 0., 0., 0., 0., 0., 0., 0., 0., 0., 0., 0., 0., 0.,\n",
       "        0., 0., 0., 0., 0., 0., 0., 0., 0., 0., 0., 0., 0., 0., 0., 0., 0.,\n",
       "        0., 0.]))"
      ]
     },
     "execution_count": 193,
     "metadata": {},
     "output_type": "execute_result"
    }
   ],
   "source": [
    "raw_data_2d = np.load('data2d.npz')\n",
    "X2 = raw_data_2d['X'].T\n",
    "Y2 = raw_data_2d['y']\n",
    "Y2 = Y2.reshape((70,1)).T\n",
    "raw_data_5d = np.load('data5d.npz')\n",
    "X5 = raw_data_5d['X'].T\n",
    "Y5 = raw_data_5d['y']\n",
    "Y5 = Y5.reshape((70,1)).T\n",
    "X2 = tf.convert_to_tensor(X2,dtype=tf.float32)\n",
    "Y2 = tf.convert_to_tensor(Y2,dtype=tf.float32)\n",
    "X5 = tf.convert_to_tensor(X5,dtype=tf.float32)\n",
    "Y5 = tf.convert_to_tensor(Y5,dtype=tf.float32)\n",
    "w2,b2 = initialize_weights(X2.shape[0])\n",
    "w5,b5 = initialize_weights(X5.shape[0])\n",
    "# print(gradient(w2,b2,X2,Y2))\n",
    "# gradient_decent(0.05,w2,b2,X2,Y2)\n",
    "gradient_decent(0.05,w5,b5,X5,Y5)\n"
   ]
  }
 ],
 "metadata": {
  "kernelspec": {
   "display_name": "Python 3",
   "language": "python",
   "name": "python3"
  },
  "language_info": {
   "codemirror_mode": {
    "name": "ipython",
    "version": 3
   },
   "file_extension": ".py",
   "mimetype": "text/x-python",
   "name": "python",
   "nbconvert_exporter": "python",
   "pygments_lexer": "ipython3",
   "version": "3.8.10"
  },
  "orig_nbformat": 4,
  "vscode": {
   "interpreter": {
    "hash": "916dbcbb3f70747c44a77c7bcd40155683ae19c65e1c03b4aa3499c5328201f1"
   }
  }
 },
 "nbformat": 4,
 "nbformat_minor": 2
}
