{
 "cells": [
  {
   "cell_type": "code",
   "execution_count": 1582,
   "metadata": {},
   "outputs": [],
   "source": [
    "import numpy as np\n",
    "from matplotlib import pyplot as plt\n",
    "from matplotlib.animation import FuncAnimation"
   ]
  },
  {
   "cell_type": "code",
   "execution_count": 1583,
   "metadata": {},
   "outputs": [],
   "source": [
    "def initial_visualization(d2_X,d2_Y,d5_X,d5_Y):\n",
    "    X_1 = d2_X[d2_Y==1]\n",
    "    X_0 = d2_X[d2_Y==0]\n",
    "    plt.subplot(1, 2, 1)\n",
    "    plt.title(\"2d data\")\n",
    "    plt.plot(X_1[:,0],X_1[:,1],'ro',color='red')\n",
    "    plt.plot(X_0[:,0],X_0[:,1],'ro',color='blue')\n",
    "    X_1 = d5_X[d5_Y==1]\n",
    "    X_0 = d5_X[d5_Y==0]\n",
    "    plt.subplot(1, 2, 2)\n",
    "    plt.title(\"5d data\")\n",
    "    plt.plot(X_1[:,0],X_1[:,1],'ro',color='red')\n",
    "    plt.plot(X_0[:,0],X_0[:,1],'ro',color='blue')\n",
    "    plt.show()"
   ]
  },
  {
   "cell_type": "code",
   "execution_count": 1584,
   "metadata": {},
   "outputs": [],
   "source": [
    "def sigmoid(z):\n",
    "    return (1 / (1 + np.exp(-z)))"
   ]
  },
  {
   "cell_type": "code",
   "execution_count": 1585,
   "metadata": {},
   "outputs": [],
   "source": [
    "def phi(W, b, X):\n",
    "    return sigmoid(np.dot(W.T, X) + b)"
   ]
  },
  {
   "cell_type": "code",
   "execution_count": 1586,
   "metadata": {},
   "outputs": [],
   "source": [
    "def cross_entropy(W, b, X, y):\n",
    "    c_phi = phi(W, b, X)\n",
    "    return  -((y * np.log(c_phi)) + ((1 - y) * np.log(1 - c_phi)))"
   ]
  },
  {
   "cell_type": "code",
   "execution_count": 1588,
   "metadata": {},
   "outputs": [],
   "source": [
    "def dC_dW(W ,b ,X ,y):\n",
    "    c_phi = phi(W, b, X)\n",
    "    return (c_phi - y) * X"
   ]
  },
  {
   "cell_type": "code",
   "execution_count": 1589,
   "metadata": {},
   "outputs": [],
   "source": [
    "def dC_db(W, b, X, y):\n",
    "    c_phi = phi(W, b, X)\n",
    "    return (c_phi - y)"
   ]
  },
  {
   "cell_type": "code",
   "execution_count": 1590,
   "metadata": {},
   "outputs": [],
   "source": [
    "def initialize_weights(size):   \n",
    "    return np.random.rand(size,1),np.random.rand()"
   ]
  },
  {
   "cell_type": "code",
   "execution_count": 1591,
   "metadata": {},
   "outputs": [],
   "source": [
    "def dC_dW_n(W, b, X, y):\n",
    "    g = np.zeros(X.shape)\n",
    "    dlt = 1e-7\n",
    "    cost = cross_entropy(W, b, X, y)\n",
    "\n",
    "    for i in range(g.shape[0]):\n",
    "        W_c = W.copy()\n",
    "        W_c[i, :] += dlt\n",
    "        cost2 = cross_entropy(W_c, b, X, y)\n",
    "        g[i, :] = (cost2 - cost) / dlt\n",
    "    return g"
   ]
  },
  {
   "cell_type": "code",
   "execution_count": 1592,
   "metadata": {},
   "outputs": [],
   "source": [
    "def dC_db_n(W, b, X, y):\n",
    "    g = np.zeros(X.shape[1])\n",
    "    dlt = 1e-7\n",
    "    cost = cross_entropy(W, b, X, y)\n",
    "    b_c = b\n",
    "    b_c += dlt\n",
    "    cost2 = cross_entropy(W, b_c, X, y)        \n",
    "    g = (cost2 - cost) / dlt    \n",
    "    return g"
   ]
  },
  {
   "cell_type": "code",
   "execution_count": 1593,
   "metadata": {},
   "outputs": [],
   "source": [
    "def check_gradient(W, b, X, y):\n",
    "    d_dw = dC_dW(W,b,X,y)\n",
    "    d_db = dC_db(W,b,X,y)\n",
    "    d_dw_n = dC_dW_n(W,b,X,y)\n",
    "    d_db_n = dC_db_n(W,b,X,y)\n",
    "    rel_err_w = np.linalg.norm(d_dw-d_dw_n)/np.linalg.norm(d_dw)\n",
    "    rel_err_b = np.linalg.norm(d_db-d_db_n)/np.linalg.norm(d_db)\n",
    "    return rel_err_w,rel_err_b"
   ]
  },
  {
   "cell_type": "code",
   "execution_count": 1594,
   "metadata": {},
   "outputs": [],
   "source": [
    "def mean_gradient(w,b,X,Y):\n",
    "    dw = dC_dW(w,b,X,Y)\n",
    "    db = dC_db(w,b,X,Y)\n",
    "    dwm = np.sum(dw,axis=1)/X.shape[1]\n",
    "    dwm = dwm.reshape((X.shape[0],1))\n",
    "    dbm = np.sum(db,axis=1)/X.shape[1]\n",
    "    dbm = dbm.reshape((1,1))\n",
    "    return dwm,dbm"
   ]
  },
  {
   "cell_type": "code",
   "execution_count": 1595,
   "metadata": {},
   "outputs": [],
   "source": [
    "def err(y_pred,Y):\n",
    "    err = np.zeros((y_pred[0].shape))\n",
    "    # print(y_pred[0].shape)\n",
    "    for i,y in enumerate(y_pred[0]):\n",
    "        if y >= 0.5:\n",
    "            if(Y[0][i] == 0):\n",
    "                err[i] = 1\n",
    "        else:\n",
    "            if(Y[0][i] == 1):\n",
    "                err[i] = 1\n",
    "    final_err = np.sum(err)/(y_pred[0].shape[0])\n",
    "    return final_err,err"
   ]
  },
  {
   "cell_type": "code",
   "execution_count": 1596,
   "metadata": {},
   "outputs": [],
   "source": [
    "def gradient_decent(lamb,w,b,X,Y):\n",
    "    dw,db = mean_gradient(w,b,X,Y)\n",
    "    count = 0\n",
    "    ws = []\n",
    "    bs = []\n",
    "    es = []\n",
    "    while True:\n",
    "        w -= lamb * dw\n",
    "        b -= lamb * db\n",
    "        if np.linalg.norm(dC_dW(w,b,X,Y)) < 1.4 and np.linalg.norm(dC_db(w,b,X,Y)) < 1.4:\n",
    "            break\n",
    "        cost = np.sum(cross_entropy(w,b,X,Y))\n",
    "        y_pred = phi(w,b,X)\n",
    "        final_error,e = err(y_pred,Y)\n",
    "        print('error: '+str(final_error))\n",
    "        print('cost: '+str(cost))\n",
    "        ws.append(w.tolist())\n",
    "        bs.append(b.tolist())\n",
    "        es.append(e.tolist())\n",
    "        count +=1\n",
    "    print(count)\n",
    "    return np.array(es[-1]).T"
   ]
  },
  {
   "cell_type": "code",
   "execution_count": 1597,
   "metadata": {},
   "outputs": [],
   "source": [
    "def abline(slope, intercept):\n",
    "    \"\"\"Plot a line from slope and intercept\"\"\"\n",
    "    axes = plt.gca()\n",
    "    x_vals = np.array(axes.get_xlim())\n",
    "    y_vals = intercept + slope * x_vals\n",
    "    plt.plot(x_vals, y_vals[0], '--')"
   ]
  },
  {
   "cell_type": "code",
   "execution_count": 1598,
   "metadata": {},
   "outputs": [],
   "source": [
    "def visualize(i,X,y,w,b,e, ax):\n",
    "    w = np.array(w)\n",
    "    b = np.array(b)\n",
    "    e = np.array(e)\n",
    "    # print('------------------------')\n",
    "    X = X.T\n",
    "    y = y.flatten()\n",
    "    ec = e[i].flatten()\n",
    "    X_1 = X[y==1]\n",
    "    X_0 = X[y==0]\n",
    "    X_e = X[ec==1]\n",
    "    \n",
    "    plt.title(\"2d data\")\n",
    "    ax.clear()\n",
    "    ax.plot(X_1[:,0],X_1[:,1],'ro',color='red')\n",
    "    ax.plot(X_0[:,0],X_0[:,1],'ro',color='blue')\n",
    "    ax.plot(X_e[:,0],X_e[:,1],'ro', color = 'white')\n",
    "    ax.plot(X_e[:,0],X_e[:,1],'o',mfc = 'none', color = 'black')\n",
    "    abline(-w[i][0]/w[i][1],-b[i]/w[i][1])\n",
    "    ax.set_xlim([-5,5])\n",
    "    ax.set_ylim([-7,7])"
   ]
  },
  {
   "cell_type": "code",
   "execution_count": 1599,
   "metadata": {},
   "outputs": [],
   "source": [
    "raw_data_2d = np.load('data2d.npz')\n",
    "X2 = raw_data_2d['X'].T\n",
    "# X2 = X2[:,:-1]\n",
    "Y2_r = raw_data_2d['y']\n",
    "# Y2 = Y2[:-1]\n",
    "Y2 = Y2_r.reshape((70,1)).T\n",
    "raw_data_5d = np.load('data5d.npz')\n",
    "X5 = raw_data_5d['X'].T\n",
    "Y5_r = raw_data_5d['y']\n",
    "Y5 = Y5_r.reshape((70,1)).T\n",
    "w2,b2 = initialize_weights(X2.shape[0])\n",
    "w5,b5 = initialize_weights(X5.shape[0])"
   ]
  },
  {
   "cell_type": "code",
   "execution_count": 1605,
   "metadata": {},
   "outputs": [
    {
     "name": "stderr",
     "output_type": "stream",
     "text": [
      "/tmp/ipykernel_461642/3214411497.py:6: UserWarning: color is redundantly defined by the 'color' keyword argument and the fmt string \"ro\" (-> color='r'). The keyword argument will take precedence.\n",
      "  plt.plot(X_1[:,0],X_1[:,1],'ro',color='red')\n",
      "/tmp/ipykernel_461642/3214411497.py:7: UserWarning: color is redundantly defined by the 'color' keyword argument and the fmt string \"ro\" (-> color='r'). The keyword argument will take precedence.\n",
      "  plt.plot(X_0[:,0],X_0[:,1],'ro',color='blue')\n",
      "/tmp/ipykernel_461642/3214411497.py:12: UserWarning: color is redundantly defined by the 'color' keyword argument and the fmt string \"ro\" (-> color='r'). The keyword argument will take precedence.\n",
      "  plt.plot(X_1[:,0],X_1[:,1],'ro',color='red')\n",
      "/tmp/ipykernel_461642/3214411497.py:13: UserWarning: color is redundantly defined by the 'color' keyword argument and the fmt string \"ro\" (-> color='r'). The keyword argument will take precedence.\n",
      "  plt.plot(X_0[:,0],X_0[:,1],'ro',color='blue')\n"
     ]
    },
    {
     "data": {
      "image/png": "[encoded data removed]",
      "text/plain": [
       "<Figure size 640x480 with 2 Axes>"
      ]
     },
     "metadata": {},
     "output_type": "display_data"
    }
   ],
   "source": [
    "initial_visualization(X2.T, Y2_r, X5.T, Y5_r)"
   ]
  },
  {
   "cell_type": "code",
   "execution_count": 1601,
   "metadata": {},
   "outputs": [
    {
     "name": "stdout",
     "output_type": "stream",
     "text": [
      "(2, 70)\n",
      "(1, 70)\n"
     ]
    }
   ],
   "source": [
    "print(X2.shape)\n",
    "print(Y2.shape)"
   ]
  },
  {
   "cell_type": "code",
   "execution_count": 1602,
   "metadata": {},
   "outputs": [
    {
     "name": "stdout",
     "output_type": "stream",
     "text": [
      "(3.330943634075347e-08, 1.867282783053728e-08)\n",
      "(4.328265237932518e-08, 2.084903699188719e-08)\n"
     ]
    }
   ],
   "source": [
    "print(check_gradient(w2, b2, X2, Y2))\n",
    "print(check_gradient(w5, b5, X5, Y5))"
   ]
  },
  {
   "cell_type": "code",
   "execution_count": 1603,
   "metadata": {},
   "outputs": [],
   "source": [
    "# 0.8\n",
    "gradient_decent(0.01,w2,b2,X2,Y2)"
   ]
  },
  {
   "cell_type": "code",
   "execution_count": 1604,
   "metadata": {},
   "outputs": [
    {
     "name": "stdout",
     "output_type": "stream",
     "text": [
      "error: 0.3142857142857143\n",
      "cost: 40.23503272503831\n",
      "error: 0.24285714285714285\n",
      "cost: 34.205290369883315\n",
      "error: 0.2\n",
      "cost: 28.956833343943412\n",
      "error: 0.15714285714285714\n",
      "cost: 24.436805952001286\n",
      "error: 0.12857142857142856\n",
      "cost: 20.583210954404215\n",
      "error: 0.08571428571428572\n",
      "cost: 17.327065609749454\n",
      "error: 0.07142857142857142\n",
      "cost: 14.595372108488709\n",
      "error: 0.05714285714285714\n",
      "cost: 12.315035057667725\n",
      "error: 0.02857142857142857\n",
      "cost: 10.416839337988494\n",
      "error: 0.02857142857142857\n",
      "cost: 8.838385755311407\n",
      "error: 0.0\n",
      "cost: 7.525496325726027\n",
      "error: 0.0\n",
      "cost: 6.432313388130796\n",
      "error: 0.0\n",
      "cost: 5.520617237400535\n",
      "error: 0.0\n",
      "cost: 4.758824299090631\n",
      "error: 0.0\n",
      "cost: 4.120946231677589\n",
      "error: 0.0\n",
      "cost: 3.585639132977342\n",
      "error: 0.0\n",
      "cost: 3.135384274969143\n",
      "error: 0.0\n",
      "cost: 2.7558012683755733\n",
      "18\n"
     ]
    },
    {
     "data": {
      "text/plain": [
       "array([0., 0., 0., 0., 0., 0., 0., 0., 0., 0., 0., 0., 0., 0., 0., 0., 0.,\n",
       "       0., 0., 0., 0., 0., 0., 0., 0., 0., 0., 0., 0., 0., 0., 0., 0., 0.,\n",
       "       0., 0., 0., 0., 0., 0., 0., 0., 0., 0., 0., 0., 0., 0., 0., 0., 0.,\n",
       "       0., 0., 0., 0., 0., 0., 0., 0., 0., 0., 0., 0., 0., 0., 0., 0., 0.,\n",
       "       0., 0.])"
      ]
     },
     "execution_count": 1604,
     "metadata": {},
     "output_type": "execute_result"
    }
   ],
   "source": [
    "# 1.4\n",
    "# gradient_decent(0.1,w5,b5,X5,Y5) "
   ]
  }
 ],
 "metadata": {
  "kernelspec": {
   "display_name": "Python 3",
   "language": "python",
   "name": "python3"
  },
  "language_info": {
   "codemirror_mode": {
    "name": "ipython",
    "version": 3
   },
   "file_extension": ".py",
   "mimetype": "text/x-python",
   "name": "python",
   "nbconvert_exporter": "python",
   "pygments_lexer": "ipython3",
   "version": "3.8.10"
  },
  "orig_nbformat": 4,
  "vscode": {
   "interpreter": {
    "hash": "916dbcbb3f70747c44a77c7bcd40155683ae19c65e1c03b4aa3499c5328201f1"
   }
  }
 },
 "nbformat": 4,
 "nbformat_minor": 2
}
